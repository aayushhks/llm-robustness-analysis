{
 "cells": [
  {
   "metadata": {
    "jupyter": {
     "is_executing": true
    }
   },
   "cell_type": "code",
   "source": [
    "# LLM Robustness Output Analysis\n",
    "\n",
    "#This notebook analyzes the responses of language models to adversarial, ambiguous, and bias-inducing prompts."
   ],
   "id": "9796e370bf2712c2",
   "outputs": [],
   "execution_count": null
  },
  {
   "metadata": {
    "ExecuteTime": {
     "end_time": "2025-10-07T02:48:27.510705Z",
     "start_time": "2025-10-07T02:48:27.502895Z"
    }
   },
   "cell_type": "code",
   "source": [
    "import pandas as pd\n",
    "\n",
    "# Update the path as needed\n",
    "outputs_df = pd.read_csv(\"../data/adversarial_outputs.csv\")\n",
    "outputs_df.head()"
   ],
   "id": "36212d16cf314279",
   "outputs": [
    {
     "ename": "ModuleNotFoundError",
     "evalue": "No module named 'pandas'",
     "output_type": "error",
     "traceback": [
      "\u001B[31m---------------------------------------------------------------------------\u001B[39m",
      "\u001B[31mModuleNotFoundError\u001B[39m                       Traceback (most recent call last)",
      "\u001B[36mCell\u001B[39m\u001B[36m \u001B[39m\u001B[32mIn[1]\u001B[39m\u001B[32m, line 1\u001B[39m\n\u001B[32m----> \u001B[39m\u001B[32m1\u001B[39m \u001B[38;5;28;01mimport\u001B[39;00m\u001B[38;5;250m \u001B[39m\u001B[34;01mpandas\u001B[39;00m\u001B[38;5;250m \u001B[39m\u001B[38;5;28;01mas\u001B[39;00m\u001B[38;5;250m \u001B[39m\u001B[34;01mpd\u001B[39;00m\n\u001B[32m      3\u001B[39m \u001B[38;5;66;03m# Update the path as needed\u001B[39;00m\n\u001B[32m      4\u001B[39m outputs_df = pd.read_csv(\u001B[33m\"\u001B[39m\u001B[33m../data/adversarial_outputs.csv\u001B[39m\u001B[33m\"\u001B[39m)\n",
      "\u001B[31mModuleNotFoundError\u001B[39m: No module named 'pandas'"
     ]
    }
   ],
   "execution_count": 1
  },
  {
   "metadata": {
    "ExecuteTime": {
     "end_time": "2025-10-06T22:22:38.622631Z",
     "start_time": "2025-10-06T22:22:38.612897Z"
    }
   },
   "cell_type": "code",
   "source": [
    "outputs_df['model_output'] = outputs_df['model_output'].astype(str)  # Make sure output is string\n",
    "\n",
    "print(\"Prompts per category:\")\n",
    "print(outputs_df['category'].value_counts())\n",
    "\n",
    "print(\"\\nExamples of outputs:\")\n",
    "for cat in outputs_df['category'].unique():\n",
    "    print(f\"\\nCategory: {cat}\")\n",
    "    subset = outputs_df[outputs_df['category'] == cat]\n",
    "    for _, row in subset.head(3).iterrows():\n",
    "        print(f\"Prompt: {row['prompt']}\\nModel Output: {row['model_output'][:200]}\\n---\")"
   ],
   "id": "fb0056051d7bb44e",
   "outputs": [
    {
     "ename": "NameError",
     "evalue": "name 'outputs_df' is not defined",
     "output_type": "error",
     "traceback": [
      "\u001B[31m---------------------------------------------------------------------------\u001B[39m",
      "\u001B[31mNameError\u001B[39m                                 Traceback (most recent call last)",
      "\u001B[36mCell\u001B[39m\u001B[36m \u001B[39m\u001B[32mIn[3]\u001B[39m\u001B[32m, line 1\u001B[39m\n\u001B[32m----> \u001B[39m\u001B[32m1\u001B[39m outputs_df[\u001B[33m'\u001B[39m\u001B[33mmodel_output\u001B[39m\u001B[33m'\u001B[39m] = \u001B[43moutputs_df\u001B[49m[\u001B[33m'\u001B[39m\u001B[33mmodel_output\u001B[39m\u001B[33m'\u001B[39m].astype(\u001B[38;5;28mstr\u001B[39m)  \u001B[38;5;66;03m# Make sure output is string\u001B[39;00m\n\u001B[32m      3\u001B[39m \u001B[38;5;28mprint\u001B[39m(\u001B[33m\"\u001B[39m\u001B[33mPrompts per category:\u001B[39m\u001B[33m\"\u001B[39m)\n\u001B[32m      4\u001B[39m \u001B[38;5;28mprint\u001B[39m(outputs_df[\u001B[33m'\u001B[39m\u001B[33mcategory\u001B[39m\u001B[33m'\u001B[39m].value_counts())\n",
      "\u001B[31mNameError\u001B[39m: name 'outputs_df' is not defined"
     ]
    }
   ],
   "execution_count": 3
  },
  {
   "metadata": {
    "jupyter": {
     "is_executing": true
    }
   },
   "cell_type": "code",
   "source": [
    "import matplotlib.pyplot as plt\n",
    "import seaborn as sns\n",
    "\n",
    "# Length of output per category\n",
    "outputs_df['output_length'] = outputs_df['model_output'].apply(lambda x: len(x))\n",
    "plt.figure(figsize=(8,6))\n",
    "sns.boxplot(x='category', y='output_length', data=outputs_df)\n",
    "plt.title(\"Distribution of Model Output Lengths by Category\")\n",
    "plt.ylabel(\"Output Length (characters)\")\n",
    "plt.show()"
   ],
   "id": "f6c23085889163fb",
   "outputs": [],
   "execution_count": null
  },
  {
   "metadata": {},
   "cell_type": "code",
   "outputs": [],
   "execution_count": null,
   "source": "print(outputs_df['model_provider'].value_counts())",
   "id": "19ced130d07b232a"
  }
 ],
 "metadata": {
  "kernelspec": {
   "name": "python3",
   "language": "python",
   "display_name": "Python 3 (ipykernel)"
  }
 },
 "nbformat": 4,
 "nbformat_minor": 5
}
