{
 "cells": [
  {
   "cell_type": "markdown",
   "id": "c13b67c2-5fc7-4265-ab1a-93f9d7fedc74",
   "metadata": {
    "jupyter": {
     "is_executing": true
    }
   },
   "source": [
    "# LLM Robustness Output Analysis\n",
    "\n",
    "This notebook analyzes the responses of language models to adversarial, ambiguous, and bias-inducing prompts."
   ]
  },
  {
   "cell_type": "code",
   "execution_count": 4,
   "id": "36212d16cf314279",
   "metadata": {
    "ExecuteTime": {
     "end_time": "2025-10-07T02:48:27.510705Z",
     "start_time": "2025-10-07T02:48:27.502895Z"
    }
   },
   "outputs": [
    {
     "ename": "ModuleNotFoundError",
     "evalue": "No module named 'pandas'",
     "output_type": "error",
     "traceback": [
      "\u001b[31m---------------------------------------------------------------------------\u001b[39m",
      "\u001b[31mModuleNotFoundError\u001b[39m                       Traceback (most recent call last)",
      "\u001b[36mCell\u001b[39m\u001b[36m \u001b[39m\u001b[32mIn[4]\u001b[39m\u001b[32m, line 1\u001b[39m\n\u001b[32m----> \u001b[39m\u001b[32m1\u001b[39m \u001b[38;5;28;01mimport\u001b[39;00m\u001b[38;5;250m \u001b[39m\u001b[34;01mpandas\u001b[39;00m\u001b[38;5;250m \u001b[39m\u001b[38;5;28;01mas\u001b[39;00m\u001b[38;5;250m \u001b[39m\u001b[34;01mpd\u001b[39;00m\n\u001b[32m      3\u001b[39m \u001b[38;5;66;03m# Update the path as needed\u001b[39;00m\n\u001b[32m      4\u001b[39m outputs_df = pd.read_csv(\u001b[33m\"\u001b[39m\u001b[33m../data/adversarial_outputs.csv\u001b[39m\u001b[33m\"\u001b[39m)\n",
      "\u001b[31mModuleNotFoundError\u001b[39m: No module named 'pandas'"
     ]
    }
   ],
   "source": [
    "import pandas as pd\n",
    "\n",
    "# Update the path as needed\n",
    "outputs_df = pd.read_csv(\"../data/adversarial_outputs.csv\")\n",
    "outputs_df.head()"
   ]
  },
  {
   "cell_type": "code",
   "execution_count": 3,
   "id": "fb0056051d7bb44e",
   "metadata": {
    "ExecuteTime": {
     "end_time": "2025-10-06T22:22:38.622631Z",
     "start_time": "2025-10-06T22:22:38.612897Z"
    }
   },
   "outputs": [
    {
     "ename": "NameError",
     "evalue": "name 'outputs_df' is not defined",
     "output_type": "error",
     "traceback": [
      "\u001b[31m---------------------------------------------------------------------------\u001b[39m",
      "\u001b[31mNameError\u001b[39m                                 Traceback (most recent call last)",
      "\u001b[36mCell\u001b[39m\u001b[36m \u001b[39m\u001b[32mIn[3]\u001b[39m\u001b[32m, line 1\u001b[39m\n\u001b[32m----> \u001b[39m\u001b[32m1\u001b[39m outputs_df[\u001b[33m'\u001b[39m\u001b[33mmodel_output\u001b[39m\u001b[33m'\u001b[39m] = \u001b[43moutputs_df\u001b[49m[\u001b[33m'\u001b[39m\u001b[33mmodel_output\u001b[39m\u001b[33m'\u001b[39m].astype(\u001b[38;5;28mstr\u001b[39m)  \u001b[38;5;66;03m# Make sure output is string\u001b[39;00m\n\u001b[32m      3\u001b[39m \u001b[38;5;28mprint\u001b[39m(\u001b[33m\"\u001b[39m\u001b[33mPrompts per category:\u001b[39m\u001b[33m\"\u001b[39m)\n\u001b[32m      4\u001b[39m \u001b[38;5;28mprint\u001b[39m(outputs_df[\u001b[33m'\u001b[39m\u001b[33mcategory\u001b[39m\u001b[33m'\u001b[39m].value_counts())\n",
      "\u001b[31mNameError\u001b[39m: name 'outputs_df' is not defined"
     ]
    }
   ],
   "source": [
    "outputs_df['model_output'] = outputs_df['model_output'].astype(str)  # Make sure output is string\n",
    "\n",
    "print(\"Prompts per category:\")\n",
    "print(outputs_df['category'].value_counts())\n",
    "\n",
    "print(\"\\nExamples of outputs:\")\n",
    "for cat in outputs_df['category'].unique():\n",
    "    print(f\"\\nCategory: {cat}\")\n",
    "    subset = outputs_df[outputs_df['category'] == cat]\n",
    "    for _, row in subset.head(3).iterrows():\n",
    "        print(f\"Prompt: {row['prompt']}\\nModel Output: {row['model_output'][:200]}\\n---\")"
   ]
  },
  {
   "cell_type": "code",
   "execution_count": null,
   "id": "f6c23085889163fb",
   "metadata": {
    "jupyter": {
     "is_executing": true
    }
   },
   "outputs": [],
   "source": [
    "import matplotlib.pyplot as plt\n",
    "import seaborn as sns\n",
    "\n",
    "# Length of output per category\n",
    "outputs_df['output_length'] = outputs_df['model_output'].apply(lambda x: len(x))\n",
    "plt.figure(figsize=(8,6))\n",
    "sns.boxplot(x='category', y='output_length', data=outputs_df)\n",
    "plt.title(\"Distribution of Model Output Lengths by Category\")\n",
    "plt.ylabel(\"Output Length (characters)\")\n",
    "plt.show()"
   ]
  },
  {
   "cell_type": "code",
   "execution_count": null,
   "id": "19ced130d07b232a",
   "metadata": {},
   "outputs": [],
   "source": [
    "print(outputs_df['model_provider'].value_counts())"
   ]
  }
 ],
 "metadata": {
  "kernelspec": {
   "display_name": "Python 3 (ipykernel)",
   "language": "python",
   "name": "python3"
  },
  "language_info": {
   "codemirror_mode": {
    "name": "ipython",
    "version": 3
   },
   "file_extension": ".py",
   "mimetype": "text/x-python",
   "name": "python",
   "nbconvert_exporter": "python",
   "pygments_lexer": "ipython3",
   "version": "3.13.7"
  }
 },
 "nbformat": 4,
 "nbformat_minor": 5
}
